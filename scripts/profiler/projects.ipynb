{
 "cells": [
  {
   "cell_type": "markdown",
   "metadata": {},
   "source": [
    "# API Profile: Projects"
   ]
  },
  {
   "cell_type": "code",
   "execution_count": 1,
   "metadata": {
    "scrolled": true
   },
   "outputs": [],
   "source": [
    "import base64\n",
    "import requests\n",
    "import pandas as pd\n",
    "\n",
    "from itsdangerous import URLSafeTimedSerializer"
   ]
  },
  {
   "cell_type": "code",
   "execution_count": 2,
   "metadata": {
    "scrolled": true
   },
   "outputs": [],
   "source": [
    "TM_SECRET = '0cNOkuyerq9J6vEXics6nTwPnjBgFeGF1Pq6yVy9'\n",
    "API_URL = 'http://127.0.0.1:5000/api/v2/'"
   ]
  },
  {
   "cell_type": "code",
   "execution_count": 3,
   "metadata": {
    "scrolled": true
   },
   "outputs": [],
   "source": [
    "def create_token(user_id):\n",
    "    serializer = URLSafeTimedSerializer(TM_SECRET)\n",
    "    token = serializer.dumps(user_id)\n",
    "    encoded = base64.b64encode(bytes(token, 'utf-8')).decode('utf-8')\n",
    "\n",
    "    return encoded"
   ]
  },
  {
   "cell_type": "code",
   "execution_count": 132,
   "metadata": {},
   "outputs": [],
   "source": [
    "TOKEN = create_token(834883)"
   ]
  },
  {
   "cell_type": "code",
   "execution_count": 133,
   "metadata": {
    "scrolled": true
   },
   "outputs": [],
   "source": [
    "endpoints = [\n",
    "    {\n",
    "        'url': 'projects',\n",
    "        'header': {'token': TOKEN},\n",
    "        'method': 'GET',\n",
    "        'params': {\n",
    "            'orderBy': 'priority',\n",
    "            'orderByType': 'ASC',\n",
    "            'page': 1,\n",
    "            'createdByMe': 'false',\n",
    "            'mappedByMe': 'false',\n",
    "            'favoritedByMe': 'false',\n",
    "            'managedByMe': 'false',\n",
    "        }\n",
    "    },\n",
    "    {\n",
    "        'url': 'projects',\n",
    "        'header': {'token': TOKEN},\n",
    "        'method': 'POST',\n",
    "        'params': {},\n",
    "        'payload':{'projectName': 'Mapathon Bahia Blanca', \n",
    "                   'areaOfInterest': {'type': 'FeatureCollection', 'features': [{'id': '65d4fe238d4356225e599c1b72e070d0', 'type': 'Feature', 'properties': {}, 'geometry': {'coordinates': [[[-62.363229765845944, -38.70359480488574], [-62.28349668643837, -38.61738800371326], [-62.14505903208223, -38.716585238332854], [-62.25283011743514, -38.78764893912241], [-62.363229765845944, -38.70359480488574]]], 'type': 'Polygon'}}]},                    \n",
    "                   'tasks': {'type': 'FeatureCollection', 'features': [{'type': 'Feature', 'properties': {'x': 167, 'y': 196, 'zoom': 9, 'isSquare': True}, 'geometry': {'type': 'MultiPolygon', 'coordinates': [[[[-62.578124997501575, -38.82259097486486], [-61.87499999752964, -38.82259097486486], [-61.87499999752964, -38.272688534680675], [-62.578124997501575, -38.272688534680675], [-62.578124997501575, -38.82259097486486]]]]}}]}, \n",
    "                   'arbitraryTasks': False\n",
    "                  }\n",
    "    },\n",
    "    {\n",
    "        'url': 'projects/queries/bbox',\n",
    "        'header': {'token': TOKEN},\n",
    "        'method': 'GET',\n",
    "        'params': {\n",
    "            'bbox': ' 34.404,-1.034, 34.717,-0.624',\n",
    "            'srid': 4326,\n",
    "            'createdByMe': False\n",
    "            \n",
    "        }\n",
    "    },    \n",
    "    {\n",
    "        'url': 'projects/queries/featured',\n",
    "        'header': {'token': TOKEN},\n",
    "        'method': 'GET',\n",
    "        'params': {}\n",
    "    },\n",
    "    {\n",
    "        'url': 'projects/queries/popular',        \n",
    "        'method': 'GET',\n",
    "        'params': {}        \n",
    "    },\n",
    "    {\n",
    "        'url': 'projects/queries/{username}/touched/',\n",
    "        'path':{ 'username': 'nahomy' },\n",
    "        'method': 'GET',\n",
    "        'params':{}\n",
    "    },\n",
    "    {\n",
    "        'url': 'projects/{project_id}',\n",
    "        'path':{ 'project_id': 16 },\n",
    "        'method': 'DELETE',\n",
    "        'params':{}\n",
    "    },\n",
    "    {\n",
    "        'url': 'projects/{project_id}',\n",
    "        'path':{ 'project_id': 14 },\n",
    "        'method': 'GET',\n",
    "        'params':{\n",
    "            'as_file': False,\n",
    "            'abbreviated': False\n",
    "        }\n",
    "    },\n",
    "    {\n",
    "        'url': 'projects/{project_id}/actions/feature',\n",
    "        'path':{ 'project_id': 6 },\n",
    "        'method': 'POST',\n",
    "        'params':{},\n",
    "        'payload':{}\n",
    "    }\n",
    "   \n",
    "]\n",
    "\n"
   ]
  },
  {
   "cell_type": "code",
   "execution_count": 117,
   "metadata": {
    "scrolled": true
   },
   "outputs": [],
   "source": [
    "def calculate_time_response(endpoints, data_time_response):\n",
    "    \n",
    "    headers = None    \n",
    "    \n",
    "    for endpoint in endpoints:\n",
    "        \n",
    "        if 'header' in endpoint:\n",
    "            headers = {'Authorization': f\"Token {endpoint['header']['token']}\",'Accept-Language': 'en'}\n",
    "            \n",
    "        if 'path' in endpoint:\n",
    "            endpoint['url'] = endpoint['url'].format(**endpoint['path'])\n",
    "            \n",
    "        if endpoint['method'] == 'GET':\n",
    "            resp = requests.get(API_URL + endpoint['url'], headers=headers, params=endpoint['params'])            \n",
    "        \n",
    "        elif endpoint['method'] == 'POST':\n",
    "            resp = requests.post(API_URL + endpoint['url'], headers=headers, params=endpoint['params'], json=endpoint['payload'])            \n",
    "            \n",
    "        if endpoint['method'] == 'DELETE':\n",
    "            resp = requests.delete(API_URL + endpoint['url'], headers=headers, params=endpoint['params'])\n",
    "            \n",
    "        if endpoint['method'] == 'PATCH':\n",
    "            resp = requests.patch(API_URL + endpoint['url'], headers=headers, params=endpoint['params'], json=endpoint['payload'])\n",
    "\n",
    "        try:\n",
    "            data[\"Method\"].append(endpoint['method'])\n",
    "            data[\"API url\"].append(endpoint['url'])\n",
    "            data[\"Time\"].append(resp.elapsed.total_seconds())\n",
    "        except:\n",
    "            print(\"connection error\")"
   ]
  },
  {
   "cell_type": "code",
   "execution_count": 134,
   "metadata": {
    "scrolled": true
   },
   "outputs": [],
   "source": [
    "data = {\n",
    "    \"Method\":[],\n",
    "    \"API url\": [],\n",
    "    \"Time\": []\n",
    "}\n",
    "\n",
    "def main():\n",
    "    \n",
    "    calculate_time_response(endpoints, data)\n",
    "      \n",
    "if __name__ == '__main__':\n",
    "    main()\n"
   ]
  },
  {
   "cell_type": "code",
   "execution_count": 135,
   "metadata": {
    "scrolled": true
   },
   "outputs": [
    {
     "data": {
      "text/html": [
       "<style  type=\"text/css\" >\n",
       "</style><table id=\"T_6f848a54_a60e_11ea_b9ba_b0fc36174a41\" ><thead>    <tr>        <th class=\"blank level0\" ></th>        <th class=\"col_heading level0 col0\" >Method</th>        <th class=\"col_heading level0 col1\" >API url</th>        <th class=\"col_heading level0 col2\" >Time</th>    </tr></thead><tbody>\n",
       "                <tr>\n",
       "                        <th id=\"T_6f848a54_a60e_11ea_b9ba_b0fc36174a41level0_row0\" class=\"row_heading level0 row0\" >0</th>\n",
       "                        <td id=\"T_6f848a54_a60e_11ea_b9ba_b0fc36174a41row0_col0\" class=\"data row0 col0\" >GET</td>\n",
       "                        <td id=\"T_6f848a54_a60e_11ea_b9ba_b0fc36174a41row0_col1\" class=\"data row0 col1\" >projects</td>\n",
       "                        <td id=\"T_6f848a54_a60e_11ea_b9ba_b0fc36174a41row0_col2\" class=\"data row0 col2\" >0.061131</td>\n",
       "            </tr>\n",
       "            <tr>\n",
       "                        <th id=\"T_6f848a54_a60e_11ea_b9ba_b0fc36174a41level0_row1\" class=\"row_heading level0 row1\" >1</th>\n",
       "                        <td id=\"T_6f848a54_a60e_11ea_b9ba_b0fc36174a41row1_col0\" class=\"data row1 col0\" >POST</td>\n",
       "                        <td id=\"T_6f848a54_a60e_11ea_b9ba_b0fc36174a41row1_col1\" class=\"data row1 col1\" >projects</td>\n",
       "                        <td id=\"T_6f848a54_a60e_11ea_b9ba_b0fc36174a41row1_col2\" class=\"data row1 col2\" >2.669575</td>\n",
       "            </tr>\n",
       "            <tr>\n",
       "                        <th id=\"T_6f848a54_a60e_11ea_b9ba_b0fc36174a41level0_row2\" class=\"row_heading level0 row2\" >2</th>\n",
       "                        <td id=\"T_6f848a54_a60e_11ea_b9ba_b0fc36174a41row2_col0\" class=\"data row2 col0\" >GET</td>\n",
       "                        <td id=\"T_6f848a54_a60e_11ea_b9ba_b0fc36174a41row2_col1\" class=\"data row2 col1\" >projects/queries/bbox</td>\n",
       "                        <td id=\"T_6f848a54_a60e_11ea_b9ba_b0fc36174a41row2_col2\" class=\"data row2 col2\" >0.031352</td>\n",
       "            </tr>\n",
       "            <tr>\n",
       "                        <th id=\"T_6f848a54_a60e_11ea_b9ba_b0fc36174a41level0_row3\" class=\"row_heading level0 row3\" >3</th>\n",
       "                        <td id=\"T_6f848a54_a60e_11ea_b9ba_b0fc36174a41row3_col0\" class=\"data row3 col0\" >GET</td>\n",
       "                        <td id=\"T_6f848a54_a60e_11ea_b9ba_b0fc36174a41row3_col1\" class=\"data row3 col1\" >projects/queries/featured</td>\n",
       "                        <td id=\"T_6f848a54_a60e_11ea_b9ba_b0fc36174a41row3_col2\" class=\"data row3 col2\" >0.010543</td>\n",
       "            </tr>\n",
       "            <tr>\n",
       "                        <th id=\"T_6f848a54_a60e_11ea_b9ba_b0fc36174a41level0_row4\" class=\"row_heading level0 row4\" >4</th>\n",
       "                        <td id=\"T_6f848a54_a60e_11ea_b9ba_b0fc36174a41row4_col0\" class=\"data row4 col0\" >GET</td>\n",
       "                        <td id=\"T_6f848a54_a60e_11ea_b9ba_b0fc36174a41row4_col1\" class=\"data row4 col1\" >projects/queries/popular</td>\n",
       "                        <td id=\"T_6f848a54_a60e_11ea_b9ba_b0fc36174a41row4_col2\" class=\"data row4 col2\" >0.024064</td>\n",
       "            </tr>\n",
       "            <tr>\n",
       "                        <th id=\"T_6f848a54_a60e_11ea_b9ba_b0fc36174a41level0_row5\" class=\"row_heading level0 row5\" >5</th>\n",
       "                        <td id=\"T_6f848a54_a60e_11ea_b9ba_b0fc36174a41row5_col0\" class=\"data row5 col0\" >GET</td>\n",
       "                        <td id=\"T_6f848a54_a60e_11ea_b9ba_b0fc36174a41row5_col1\" class=\"data row5 col1\" >projects/queries/nahomy/touched/</td>\n",
       "                        <td id=\"T_6f848a54_a60e_11ea_b9ba_b0fc36174a41row5_col2\" class=\"data row5 col2\" >0.015138</td>\n",
       "            </tr>\n",
       "            <tr>\n",
       "                        <th id=\"T_6f848a54_a60e_11ea_b9ba_b0fc36174a41level0_row6\" class=\"row_heading level0 row6\" >6</th>\n",
       "                        <td id=\"T_6f848a54_a60e_11ea_b9ba_b0fc36174a41row6_col0\" class=\"data row6 col0\" >DELETE</td>\n",
       "                        <td id=\"T_6f848a54_a60e_11ea_b9ba_b0fc36174a41row6_col1\" class=\"data row6 col1\" >projects/16</td>\n",
       "                        <td id=\"T_6f848a54_a60e_11ea_b9ba_b0fc36174a41row6_col2\" class=\"data row6 col2\" >0.004730</td>\n",
       "            </tr>\n",
       "            <tr>\n",
       "                        <th id=\"T_6f848a54_a60e_11ea_b9ba_b0fc36174a41level0_row7\" class=\"row_heading level0 row7\" >7</th>\n",
       "                        <td id=\"T_6f848a54_a60e_11ea_b9ba_b0fc36174a41row7_col0\" class=\"data row7 col0\" >GET</td>\n",
       "                        <td id=\"T_6f848a54_a60e_11ea_b9ba_b0fc36174a41row7_col1\" class=\"data row7 col1\" >projects/14</td>\n",
       "                        <td id=\"T_6f848a54_a60e_11ea_b9ba_b0fc36174a41row7_col2\" class=\"data row7 col2\" >0.020724</td>\n",
       "            </tr>\n",
       "            <tr>\n",
       "                        <th id=\"T_6f848a54_a60e_11ea_b9ba_b0fc36174a41level0_row8\" class=\"row_heading level0 row8\" >8</th>\n",
       "                        <td id=\"T_6f848a54_a60e_11ea_b9ba_b0fc36174a41row8_col0\" class=\"data row8 col0\" >POST</td>\n",
       "                        <td id=\"T_6f848a54_a60e_11ea_b9ba_b0fc36174a41row8_col1\" class=\"data row8 col1\" >projects/6/actions/feature</td>\n",
       "                        <td id=\"T_6f848a54_a60e_11ea_b9ba_b0fc36174a41row8_col2\" class=\"data row8 col2\" >0.011680</td>\n",
       "            </tr>\n",
       "    </tbody></table>"
      ],
      "text/plain": [
       "<pandas.io.formats.style.Styler at 0x7fc20f5e0e48>"
      ]
     },
     "execution_count": 135,
     "metadata": {},
     "output_type": "execute_result"
    }
   ],
   "source": [
    "df = pd.DataFrame(data)\n",
    "df.style"
   ]
  },
  {
   "cell_type": "code",
   "execution_count": 136,
   "metadata": {
    "scrolled": true
   },
   "outputs": [
    {
     "data": {
      "text/plain": [
       "<matplotlib.axes._subplots.AxesSubplot at 0x7fc20f5f6400>"
      ]
     },
     "execution_count": 136,
     "metadata": {},
     "output_type": "execute_result"
    },
    {
     "data": {
      "image/png": "[encoded data removed]",
      "text/plain": [
       "<Figure size 432x288 with 1 Axes>"
      ]
     },
     "metadata": {
      "needs_background": "light"
     },
     "output_type": "display_data"
    }
   ],
   "source": [
    "df.plot(title='Time of response project request', x ='API url', y='Time', kind = 'bar')"
   ]
  }
 ],
 "metadata": {
  "kernelspec": {
   "display_name": "Python 3",
   "language": "python",
   "name": "python3"
  },
  "language_info": {
   "codemirror_mode": {
    "name": "ipython",
    "version": 3
   },
   "file_extension": ".py",
   "mimetype": "text/x-python",
   "name": "python",
   "nbconvert_exporter": "python",
   "pygments_lexer": "ipython3",
   "version": "3.7.3"
  }
 },
 "nbformat": 4,
 "nbformat_minor": 4
}
