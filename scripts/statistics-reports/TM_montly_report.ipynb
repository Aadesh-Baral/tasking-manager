{
 "cells": [
  {
   "cell_type": "markdown",
   "metadata": {},
   "source": [
    "## Tasking Manager Monthly Report"
   ]
  },
  {
   "cell_type": "code",
   "execution_count": 4,
   "metadata": {},
   "outputs": [
    {
     "name": "stdout",
     "output_type": "stream",
     "text": [
      "/bin/sh: pip: command not found\r\n"
     ]
    },
    {
     "ename": "ModuleNotFoundError",
     "evalue": "No module named 'plotly'",
     "output_type": "error",
     "traceback": [
      "\u001b[0;31m---------------------------------------------------------------------------\u001b[0m",
      "\u001b[0;31mModuleNotFoundError\u001b[0m                       Traceback (most recent call last)",
      "\u001b[0;32m<ipython-input-4-edb33069e3e8>\u001b[0m in \u001b[0;36m<module>\u001b[0;34m\u001b[0m\n\u001b[1;32m      3\u001b[0m \u001b[0;32mimport\u001b[0m \u001b[0mpandas\u001b[0m \u001b[0;32mas\u001b[0m \u001b[0mpd\u001b[0m\u001b[0;34m\u001b[0m\u001b[0;34m\u001b[0m\u001b[0m\n\u001b[1;32m      4\u001b[0m \u001b[0mget_ipython\u001b[0m\u001b[0;34m(\u001b[0m\u001b[0;34m)\u001b[0m\u001b[0;34m.\u001b[0m\u001b[0msystem\u001b[0m\u001b[0;34m(\u001b[0m\u001b[0;34m'pip install plotly'\u001b[0m\u001b[0;34m)\u001b[0m\u001b[0;34m\u001b[0m\u001b[0;34m\u001b[0m\u001b[0m\n\u001b[0;32m----> 5\u001b[0;31m \u001b[0;32mimport\u001b[0m \u001b[0mplotly\u001b[0m\u001b[0;34m.\u001b[0m\u001b[0mgraph_objects\u001b[0m \u001b[0;32mas\u001b[0m \u001b[0mgo\u001b[0m\u001b[0;34m\u001b[0m\u001b[0;34m\u001b[0m\u001b[0m\n\u001b[0m\u001b[1;32m      6\u001b[0m \u001b[0;32mimport\u001b[0m \u001b[0mplotly\u001b[0m\u001b[0;34m.\u001b[0m\u001b[0mexpress\u001b[0m \u001b[0;32mas\u001b[0m \u001b[0mpx\u001b[0m\u001b[0;34m\u001b[0m\u001b[0;34m\u001b[0m\u001b[0m\n\u001b[1;32m      7\u001b[0m \u001b[0;32mfrom\u001b[0m \u001b[0mipywidgets\u001b[0m \u001b[0;32mimport\u001b[0m \u001b[0minteract\u001b[0m\u001b[0;34m\u001b[0m\u001b[0;34m\u001b[0m\u001b[0m\n",
      "\u001b[0;31mModuleNotFoundError\u001b[0m: No module named 'plotly'"
     ]
    }
   ],
   "source": [
    "import base64\n",
    "import requests, json\n",
    "import pandas as pd\n",
    "import plotly.graph_objects as go\n",
    "import plotly.express as px\n",
    "from ipywidgets import interact\n",
    "import ipywidgets as widgets\n",
    "\n",
    "from itsdangerous import URLSafeTimedSerializer\n",
    "from IPython.display import display"
   ]
  },
  {
   "cell_type": "code",
   "execution_count": null,
   "metadata": {},
   "outputs": [],
   "source": [
    "TM_APP_BASE_URL = 'https://tasking-manager-tm4-production-api.hotosm.org'\n",
    "#change for user token \n",
    "TOKEN_USER = 'Token T0RNME9EZ3ouWHpILVlBLmNhRUg0TVF0dEFWbVJLa21TRmpuWHJJMF9SYw=='"
   ]
  },
  {
   "cell_type": "code",
   "execution_count": null,
   "metadata": {},
   "outputs": [],
   "source": [
    "headers = {\n",
    "        'Authorization': TOKEN_USER,\n",
    "        'Accept-Language': 'en'\n",
    "        }\n",
    "columns = ['project_id','project_name','project_organisation','teams','percentege_mapped',\n",
    "          'percentege_validated','id_presets','instructions']\n",
    "table = []"
   ]
  },
  {
   "cell_type": "code",
   "execution_count": null,
   "metadata": {},
   "outputs": [],
   "source": [
    "def get_project_id(project_id):\n",
    "    data_result={\n",
    "        'project_id':[],\n",
    "        'project_name':[],\n",
    "        'project_organisation':[],\n",
    "        'percentege_mapped':[],\n",
    "        'percentege_validated':[],\n",
    "        'id_presets':[],\n",
    "        'instructions':[],\n",
    "        'teams':[]\n",
    "    }  \n",
    "    result = requests.get(TM_APP_BASE_URL + '/api/v2/projects/{project_id}/'.format(project_id=project_id), headers=headers).json()\n",
    "    data_result['project_id'].append(project_id)\n",
    "    data_result['project_name'].append(result['projectInfo']['name'])\n",
    "    data_result['project_organisation'].append(result['organisationName'])\n",
    "    data_result['percentege_mapped'].append(result['percentMapped'])\n",
    "    data_result['percentege_validated'].append(result['percentValidated'])\n",
    "    data_result['id_presets'].append(result['idPresets'])\n",
    "    data_result['instructions'].append(len(result['projectInfo']['instructions']))\n",
    "    data_result['teams'].append(result['teams'])    \n",
    "    return data_result"
   ]
  },
  {
   "cell_type": "code",
   "execution_count": 5,
   "metadata": {},
   "outputs": [],
   "source": [
    "def btn_eventhandler(object):    \n",
    "    result = get_project_id(project_id.value)\n",
    "    table.append(result)"
   ]
  },
  {
   "cell_type": "code",
   "execution_count": 8,
   "metadata": {},
   "outputs": [
    {
     "data": {
      "application/vnd.jupyter.widget-view+json": {
       "model_id": "cfc8400580be4fd1b59df6bdd8f742b9",
       "version_major": 2,
       "version_minor": 0
      },
      "text/plain": [
       "Text(value='')"
      ]
     },
     "metadata": {},
     "output_type": "display_data"
    },
    {
     "data": {
      "application/vnd.jupyter.widget-view+json": {
       "model_id": "fb4fb2af6e174ebda7d28217672c8640",
       "version_major": 2,
       "version_minor": 0
      },
      "text/plain": [
       "Button(description='Results', style=ButtonStyle())"
      ]
     },
     "metadata": {},
     "output_type": "display_data"
    }
   ],
   "source": [
    "project_id = widgets.Text()\n",
    "display(project_id)\n",
    "btn = widgets.Button(description='Results')\n",
    "btn.on_click(btn_eventhandler)\n",
    "display(btn)\n"
   ]
  },
  {
   "cell_type": "code",
   "execution_count": 9,
   "metadata": {},
   "outputs": [
    {
     "data": {
      "text/html": [
       "<div>\n",
       "<style scoped>\n",
       "    .dataframe tbody tr th:only-of-type {\n",
       "        vertical-align: middle;\n",
       "    }\n",
       "\n",
       "    .dataframe tbody tr th {\n",
       "        vertical-align: top;\n",
       "    }\n",
       "\n",
       "    .dataframe thead th {\n",
       "        text-align: right;\n",
       "    }\n",
       "</style>\n",
       "<table border=\"1\" class=\"dataframe\">\n",
       "  <thead>\n",
       "    <tr style=\"text-align: right;\">\n",
       "      <th></th>\n",
       "      <th>project_id</th>\n",
       "      <th>project_name</th>\n",
       "      <th>project_organisation</th>\n",
       "      <th>percentege_mapped</th>\n",
       "      <th>percentege_validated</th>\n",
       "      <th>id_presets</th>\n",
       "      <th>instructions</th>\n",
       "      <th>teams</th>\n",
       "    </tr>\n",
       "  </thead>\n",
       "  <tbody>\n",
       "    <tr>\n",
       "      <th>0</th>\n",
       "      <td>8997</td>\n",
       "      <td>COVID-19 - Yelimane Cercle 5 - Kayes Region, Mali</td>\n",
       "      <td>HOT</td>\n",
       "      <td>82</td>\n",
       "      <td>26</td>\n",
       "      <td>None</td>\n",
       "      <td>2748</td>\n",
       "      <td>[{'teamId': 1, 'name': 'Validator Trainees', '...</td>\n",
       "    </tr>\n",
       "  </tbody>\n",
       "</table>\n",
       "</div>"
      ],
      "text/plain": [
       "  project_id                                       project_name  \\\n",
       "0       8997  COVID-19 - Yelimane Cercle 5 - Kayes Region, Mali   \n",
       "\n",
       "  project_organisation  percentege_mapped  percentege_validated id_presets  \\\n",
       "0                  HOT                 82                    26       None   \n",
       "\n",
       "   instructions                                              teams  \n",
       "0          2748  [{'teamId': 1, 'name': 'Validator Trainees', '...  "
      ]
     },
     "execution_count": 9,
     "metadata": {},
     "output_type": "execute_result"
    }
   ],
   "source": [
    "df = pd.DataFrame(table[0])\n",
    "df.head()"
   ]
  },
  {
   "cell_type": "code",
   "execution_count": 10,
   "metadata": {},
   "outputs": [],
   "source": [
    "def get_all_projects():\n",
    "    projects = requests.get(TM_APP_BASE_URL + '/api/v2/projects/', headers=headers).json()\n",
    "    return projects"
   ]
  },
  {
   "cell_type": "code",
   "execution_count": null,
   "metadata": {},
   "outputs": [],
   "source": [
    "table = []\n",
    "data = get_all_projects()\n",
    "\n",
    "total_projects =  data['mapResults']['features']\n",
    "\n",
    "for value in total_projects:\n",
    "    project_id = value['properties']['projectId']\n",
    "    table.append(get_project_id(project_id))"
   ]
  },
  {
   "cell_type": "code",
   "execution_count": null,
   "metadata": {},
   "outputs": [],
   "source": [
    "df = pd.DataFrame(table)\n",
    "df.head()"
   ]
  },
  {
   "cell_type": "code",
   "execution_count": null,
   "metadata": {},
   "outputs": [],
   "source": [
    "df.to_csv('list_projects.csv') "
   ]
  },
  {
   "cell_type": "code",
   "execution_count": null,
   "metadata": {},
   "outputs": [],
   "source": []
  }
 ],
 "metadata": {
  "kernelspec": {
   "display_name": "Python 3",
   "language": "python",
   "name": "python3"
  },
  "language_info": {
   "codemirror_mode": {
    "name": "ipython",
    "version": 3
   },
   "file_extension": ".py",
   "mimetype": "text/x-python",
   "name": "python",
   "nbconvert_exporter": "python",
   "pygments_lexer": "ipython3",
   "version": "3.7.6"
  }
 },
 "nbformat": 4,
 "nbformat_minor": 4
}
