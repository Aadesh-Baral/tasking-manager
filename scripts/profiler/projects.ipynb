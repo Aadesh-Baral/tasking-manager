{
 "cells": [
  {
   "cell_type": "markdown",
   "metadata": {},
   "source": [
    "# API Profile: Projects"
   ]
  },
  {
   "cell_type": "code",
   "execution_count": 50,
   "metadata": {},
   "outputs": [],
   "source": [
    "import requests\n",
    "import pandas as pd"
   ]
  },
  {
   "cell_type": "code",
   "execution_count": 52,
   "metadata": {},
   "outputs": [],
   "source": [
    "API_URL = 'http://127.0.0.1:5000/api/v2/'\n",
    "time_response = []"
   ]
  },
  {
   "cell_type": "markdown",
   "metadata": {},
   "source": [
    "List and search for projects: `/api/v2/projects`"
   ]
  },
  {
   "cell_type": "code",
   "execution_count": 53,
   "metadata": {},
   "outputs": [],
   "source": [
    "def get_list_projects():\n",
    "    method = 'projects'\n",
    "    resp = requests.get(API_URL + method,)\n",
    "    \n",
    "    time_response.append(resp.elapsed)\n",
    "    \n",
    "    print(\"Status code:\" + str(resp.status_code))\n",
    "    print(\"Time response:\" + str(resp.elapsed))"
   ]
  },
  {
   "cell_type": "markdown",
   "metadata": {},
   "source": [
    "Get popular projects: `/api/v2/projects/queries/popular`"
   ]
  },
  {
   "cell_type": "code",
   "execution_count": 54,
   "metadata": {},
   "outputs": [],
   "source": [
    "def get_popular_projects():\n",
    "    method = 'projects/queries/popular'\n",
    "    resp = requests.get(API_URL + method)\n",
    "    \n",
    "    time_response.append(resp.elapsed)\n",
    "    \n",
    "    print(\"Status code:\" + str(resp.status_code))\n",
    "    print(\"Time response:\" + str(resp.elapsed))"
   ]
  },
  {
   "cell_type": "code",
   "execution_count": 55,
   "metadata": {},
   "outputs": [
    {
     "name": "stdout",
     "output_type": "stream",
     "text": [
      "Status code:200\n",
      "Time response:0:00:00.040189\n",
      "Status code:200\n",
      "Time response:0:00:00.021379\n"
     ]
    }
   ],
   "source": [
    "def main():\n",
    "    get_list_projects()\n",
    "    get_popular_projects()\n",
    "    \n",
    "\n",
    "if __name__ == '__main__':\n",
    "    main()"
   ]
  },
  {
   "cell_type": "code",
   "execution_count": 56,
   "metadata": {},
   "outputs": [
    {
     "name": "stdout",
     "output_type": "stream",
     "text": [
      "                            Api url            Time\n",
      "0  /api/v2/projects/queries/popular 00:00:00.040189\n",
      "1                  /api/v2/projects 00:00:00.021379\n"
     ]
    }
   ],
   "source": [
    "data = {'Api url': ['/api/v2/projects/queries/popular','/api/v2/projects'],\n",
    "        'Time': time_response\n",
    "        }\n",
    "\n",
    "df = pd.DataFrame(data, columns = ['Api url', 'Time'])\n",
    "\n",
    "print (df)"
   ]
  }
 ],
 "metadata": {
  "kernelspec": {
   "display_name": "Python 3",
   "language": "python",
   "name": "python3"
  },
  "language_info": {
   "codemirror_mode": {
    "name": "ipython",
    "version": 3
   },
   "file_extension": ".py",
   "mimetype": "text/x-python",
   "name": "python",
   "nbconvert_exporter": "python",
   "pygments_lexer": "ipython3",
   "version": "3.7.3"
  }
 },
 "nbformat": 4,
 "nbformat_minor": 4
}
