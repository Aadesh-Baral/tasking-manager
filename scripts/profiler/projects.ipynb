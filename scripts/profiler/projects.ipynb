{
 "cells": [
  {
   "cell_type": "markdown",
   "metadata": {},
   "source": [
    "# API Profile: Projects"
   ]
  },
  {
   "cell_type": "code",
   "execution_count": 1,
   "metadata": {},
   "outputs": [],
   "source": [
    "import requests\n",
    "import pandas as pd"
   ]
  },
  {
   "cell_type": "code",
   "execution_count": 2,
   "metadata": {},
   "outputs": [],
   "source": [
    "API_URL = 'http://127.0.0.1:5000/api/v2/'\n",
    "time_response = []"
   ]
  },
  {
   "cell_type": "markdown",
   "metadata": {},
   "source": [
    "List and search for projects: `/api/v2/projects`"
   ]
  },
  {
   "cell_type": "code",
   "execution_count": 3,
   "metadata": {},
   "outputs": [],
   "source": [
    "def get_list_projects():\n",
    "    method = 'projects'\n",
    "    resp = requests.get(API_URL + method)\n",
    "    \n",
    "    time_response.append(resp.elapsed.total_seconds())\n",
    "    \n",
    "    print(\"Status code:\" + str(resp.status_code))\n",
    "    print(\"Time response:\" + str(resp.elapsed))"
   ]
  },
  {
   "cell_type": "markdown",
   "metadata": {},
   "source": [
    "Get popular projects: `/api/v2/projects/queries/popular`"
   ]
  },
  {
   "cell_type": "code",
   "execution_count": 4,
   "metadata": {},
   "outputs": [],
   "source": [
    "def get_popular_projects():\n",
    "    method = 'projects/queries/popular'\n",
    "    resp = requests.get(API_URL + method)\n",
    "    \n",
    "    time_response.append(resp.elapsed.total_seconds())\n",
    "    \n",
    "    print(\"Status code:\" + str(resp.status_code))\n",
    "    print(\"Time response:\" + str(resp.elapsed))"
   ]
  },
  {
   "cell_type": "markdown",
   "metadata": {},
   "source": [
    "Get all user contributions on a project: `/api/v2/projects/{project_id}/contributions/`"
   ]
  },
  {
   "cell_type": "code",
   "execution_count": 5,
   "metadata": {},
   "outputs": [],
   "source": [
    "def get_all_user_contribution_project(project_id):\n",
    "    method = f'/api/v2/projects/{project_id}/contributions'\n",
    "    \n",
    "    resp = requests.get(API_URL + method)\n",
    "    \n",
    "    time_response.append(resp.elapsed.total_seconds())\n",
    "    \n",
    "    print(\"Status code:\" + str(resp.status_code))\n",
    "    print(\"Time response:\" + str(resp.elapsed))"
   ]
  },
  {
   "cell_type": "code",
   "execution_count": 6,
   "metadata": {},
   "outputs": [
    {
     "name": "stdout",
     "output_type": "stream",
     "text": [
      "Status code:200\n",
      "Time response:0:00:00.011358\n",
      "Status code:200\n",
      "Time response:0:00:00.048989\n",
      "Status code:200\n",
      "Time response:0:00:00.001966\n",
      "[0.011358, 0.048989, 0.001966]\n"
     ]
    }
   ],
   "source": [
    "def main():\n",
    "    \n",
    "    project_id = 4\n",
    "    \n",
    "    get_list_projects()\n",
    "    get_popular_projects()\n",
    "    get_all_user_contribution_project(project_id)\n",
    "\n",
    "if __name__ == '__main__':\n",
    "    main()"
   ]
  },
  {
   "cell_type": "code",
   "execution_count": 7,
   "metadata": {},
   "outputs": [
    {
     "data": {
      "text/html": [
       "<style  type=\"text/css\" >\n",
       "</style><table id=\"T_de667d58_a4d1_11ea_bdc6_b0fc36174a41\" ><thead>    <tr>        <th class=\"blank level0\" ></th>        <th class=\"col_heading level0 col0\" >API url</th>        <th class=\"col_heading level0 col1\" >Time response</th>    </tr></thead><tbody>\n",
       "                <tr>\n",
       "                        <th id=\"T_de667d58_a4d1_11ea_bdc6_b0fc36174a41level0_row0\" class=\"row_heading level0 row0\" >0</th>\n",
       "                        <td id=\"T_de667d58_a4d1_11ea_bdc6_b0fc36174a41row0_col0\" class=\"data row0 col0\" >/api/v2/projects</td>\n",
       "                        <td id=\"T_de667d58_a4d1_11ea_bdc6_b0fc36174a41row0_col1\" class=\"data row0 col1\" >0.011358</td>\n",
       "            </tr>\n",
       "            <tr>\n",
       "                        <th id=\"T_de667d58_a4d1_11ea_bdc6_b0fc36174a41level0_row1\" class=\"row_heading level0 row1\" >1</th>\n",
       "                        <td id=\"T_de667d58_a4d1_11ea_bdc6_b0fc36174a41row1_col0\" class=\"data row1 col0\" >/api/v2/projects/queries/popular</td>\n",
       "                        <td id=\"T_de667d58_a4d1_11ea_bdc6_b0fc36174a41row1_col1\" class=\"data row1 col1\" >0.048989</td>\n",
       "            </tr>\n",
       "            <tr>\n",
       "                        <th id=\"T_de667d58_a4d1_11ea_bdc6_b0fc36174a41level0_row2\" class=\"row_heading level0 row2\" >2</th>\n",
       "                        <td id=\"T_de667d58_a4d1_11ea_bdc6_b0fc36174a41row2_col0\" class=\"data row2 col0\" >/api/v2/projects/{project_id}/contributions/</td>\n",
       "                        <td id=\"T_de667d58_a4d1_11ea_bdc6_b0fc36174a41row2_col1\" class=\"data row2 col1\" >0.001966</td>\n",
       "            </tr>\n",
       "    </tbody></table>"
      ],
      "text/plain": [
       "<pandas.io.formats.style.Styler at 0x7f0b40d336a0>"
      ]
     },
     "execution_count": 7,
     "metadata": {},
     "output_type": "execute_result"
    }
   ],
   "source": [
    "data = {'API url': ['/api/v2/projects','/api/v2/projects/queries/popular','/api/v2/projects/{project_id}/contributions/'],\n",
    "        'Time response': time_response\n",
    "        }\n",
    "\n",
    "df = pd.DataFrame(data, columns = ['API url', 'Time response'])\n",
    "df.style"
   ]
  },
  {
   "cell_type": "code",
   "execution_count": 8,
   "metadata": {},
   "outputs": [
    {
     "data": {
      "text/plain": [
       "<matplotlib.axes._subplots.AxesSubplot at 0x7f0b3ecf6b38>"
      ]
     },
     "execution_count": 8,
     "metadata": {},
     "output_type": "execute_result"
    },
    {
     "data": {
      "image/png": "[encoded data removed]",
      "text/plain": [
       "<Figure size 432x288 with 1 Axes>"
      ]
     },
     "metadata": {
      "needs_background": "light"
     },
     "output_type": "display_data"
    }
   ],
   "source": [
    "df.plot(title='Time of response project request', x ='API url', y='Time response', kind = 'barh')"
   ]
  }
 ],
 "metadata": {
  "kernelspec": {
   "display_name": "Python 3",
   "language": "python",
   "name": "python3"
  },
  "language_info": {
   "codemirror_mode": {
    "name": "ipython",
    "version": 3
   },
   "file_extension": ".py",
   "mimetype": "text/x-python",
   "name": "python",
   "nbconvert_exporter": "python",
   "pygments_lexer": "ipython3",
   "version": "3.7.3"
  }
 },
 "nbformat": 4,
 "nbformat_minor": 4
}
